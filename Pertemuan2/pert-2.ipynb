{
 "cells": [
  {
   "cell_type": "code",
   "execution_count": 5,
   "metadata": {},
   "outputs": [
    {
     "name": "stdout",
     "output_type": "stream",
     "text": [
      "5\n",
      "[1 2 3]\n",
      "[[1]\n",
      " [2]\n",
      " [3]]\n",
      "[[1 2 3]\n",
      " [4 5 6]]\n",
      "[[10 20 30]\n",
      " [40 50 60]\n",
      " [70 80 90]]\n",
      "90\n",
      "[40 50 60]\n",
      "[30 60 90]\n",
      "[[20 30]\n",
      " [50 60]]\n"
     ]
    }
   ],
   "source": [
    "import numpy as np\n",
    "\n",
    "#skalar\n",
    "scalar = np.array(5)\n",
    "print(scalar)\n",
    "\n",
    "#vekotr\n",
    "vektor = np.array([1,2,3])\n",
    "print(vektor)\n",
    "\n",
    "#vektor kolom\n",
    "kolom = np.array([[1],[2],[3]])\n",
    "print(kolom)\n",
    "\n",
    "#2 dimensi\n",
    "matrix = np.array([[1,2,3],[4,5,6]])\n",
    "print(matrix)\n",
    "\n",
    "#3 dimensi\n",
    "trx = np.array([[10,20,30],\n",
    "                [40,50,60],\n",
    "                [70,80,90]])\n",
    "print(trx)\n",
    "\n",
    "#baris kolom\n",
    "elemen = trx[2,2]\n",
    "print(elemen)\n",
    "\n",
    "# akses 1 baris \n",
    "elemen = trx[1,:]\n",
    "print(elemen)\n",
    "\n",
    "# akses 1 kolom \n",
    "elemen = trx[:,2]\n",
    "print(elemen)\n",
    "\n",
    "#\n",
    "elemen = trx[0:2,1:3]\n",
    "print(elemen)"
   ]
  },
  {
   "cell_type": "code",
   "execution_count": 3,
   "metadata": {},
   "outputs": [
    {
     "ename": "NameError",
     "evalue": "name 'np' is not defined",
     "output_type": "error",
     "traceback": [
      "\u001b[1;31m---------------------------------------------------------------------------\u001b[0m",
      "\u001b[1;31mNameError\u001b[0m                                 Traceback (most recent call last)",
      "Cell \u001b[1;32mIn[3], line 1\u001b[0m\n\u001b[1;32m----> 1\u001b[0m A \u001b[38;5;241m=\u001b[39m np\u001b[38;5;241m.\u001b[39marray([[\u001b[38;5;241m1\u001b[39m,\u001b[38;5;241m2\u001b[39m],[\u001b[38;5;241m3\u001b[39m,\u001b[38;5;241m4\u001b[39m]])\n\u001b[0;32m      2\u001b[0m B \u001b[38;5;241m=\u001b[39m np\u001b[38;5;241m.\u001b[39marray([[\u001b[38;5;241m5\u001b[39m,\u001b[38;5;241m6\u001b[39m],[\u001b[38;5;241m7\u001b[39m,\u001b[38;5;241m8\u001b[39m]])\n\u001b[0;32m      4\u001b[0m perkalian \u001b[38;5;241m=\u001b[39m np\u001b[38;5;241m.\u001b[39mdot(A,B)\n",
      "\u001b[1;31mNameError\u001b[0m: name 'np' is not defined"
     ]
    }
   ],
   "source": [
    "A = np.array([[1,2],[3,4]])\n",
    "B = np.array([[5,6],[7,8]])\n",
    "\n",
    "perkalian = np.dot(A,B)\n",
    "print(f\"Perkalian: \\n{perkalian}\")\n",
    "\n",
    "invers = np.linalg.inv(A)\n",
    "print(f\"Invers: \\n{invers}\")\n",
    "\n",
    "determinan = np.linalg.det(B)\n",
    "print(f\"Determinan: \\n{determinan}\")"
   ]
  },
  {
   "cell_type": "markdown",
   "metadata": {},
   "source": [
    "# Sistem Linear"
   ]
  },
  {
   "cell_type": "code",
   "execution_count": null,
   "metadata": {},
   "outputs": [],
   "source": [
    "# 2x + y = 22\n",
    "# x + y = 12\n",
    "# x = 10 y = 2\n",
    "ruas_kiri = np.array([\n",
    "    [2,1], # persamaan 1 (x = 2, y = 1)\n",
    "    [1,1] # persamaan 2 (x = 1, y = 1)\n",
    "])\n",
    "\n",
    "ruas_kanan = np.array([\n",
    "    22, # jawban pers 1\n",
    "    12  # jawban pers 2\n",
    "])\n",
    "\n",
    "jawaban = np.linalg.solve(ruas_kiri,ruas_kanan)\n",
    "print(jawaban)"
   ]
  },
  {
   "cell_type": "markdown",
   "metadata": {},
   "source": [
    "# Penggabunga Matrix"
   ]
  },
  {
   "cell_type": "code",
   "execution_count": 16,
   "metadata": {},
   "outputs": [
    {
     "name": "stdout",
     "output_type": "stream",
     "text": [
      "[[1 2 5 6]\n",
      " [3 4 7 8]]\n",
      "[[1 2]\n",
      " [3 4]\n",
      " [5 6]\n",
      " [7 8]]\n"
     ]
    }
   ],
   "source": [
    "A = np.array([\n",
    "    [1,2],\n",
    "    [3,4]\n",
    "])\n",
    "\n",
    "B = np.array([\n",
    "    [5,6],\n",
    "    [7,8]\n",
    "])\n",
    "\n",
    "#Horizontal  \n",
    "gabungan = np.hstack((A,B))\n",
    "print(gabungan)\n",
    "\n",
    "#Vertikal\n",
    "gabungan = np.vstack((A,B))\n",
    "print(gabungan)"
   ]
  },
  {
   "cell_type": "markdown",
   "metadata": {},
   "source": [
    "## Pembentukan Matrix"
   ]
  },
  {
   "cell_type": "code",
   "execution_count": 24,
   "metadata": {},
   "outputs": [
    {
     "name": "stdout",
     "output_type": "stream",
     "text": [
      "Sebleum di reshape [1 2 3 4]\n",
      "Sesudah di reshape:\n",
      " [[1 2]\n",
      " [3 4]]\n",
      "Sebleum di Flatten [[1 2]\n",
      " [3 4]]\n",
      "Sesudah di Flatten:\n",
      " [1 2 3 4]\n",
      "Sebleum di Resize: \n",
      "[1 2 3 4]\n",
      "Sesudah di Resize: \n",
      "[[1 2 3]\n",
      " [4 1 2]]\n"
     ]
    }
   ],
   "source": [
    "A = np.array([\n",
    "    [1,2],\n",
    "    [3,4]\n",
    "])\n",
    "\n",
    "B = np.array([1,2,3,4])\n",
    "\n",
    "#RESHAPE\n",
    "print(f\"Sebleum di reshape {B}\")\n",
    "print(f\"Sesudah di reshape:\\n {B.reshape(2,2)}\")\n",
    "\n",
    "#FLATTEN\n",
    "print(f\"Sebleum di Flatten {A}\")\n",
    "print(f\"Sesudah di Flatten:\\n {A.flatten()}\")\n",
    "\n",
    "#RESIZE\n",
    "print(f\"Sebleum di Resize: \\n{B}\")\n",
    "print(f\"Sesudah di Resize: \\n{np.resize(B,(2,3))}\")"
   ]
  }
 ],
 "metadata": {
  "kernelspec": {
   "display_name": "base",
   "language": "python",
   "name": "python3"
  },
  "language_info": {
   "codemirror_mode": {
    "name": "ipython",
    "version": 3
   },
   "file_extension": ".py",
   "mimetype": "text/x-python",
   "name": "python",
   "nbconvert_exporter": "python",
   "pygments_lexer": "ipython3",
   "version": "3.11.5"
  }
 },
 "nbformat": 4,
 "nbformat_minor": 2
}
