{
 "cells": [
  {
   "cell_type": "markdown",
   "metadata": {},
   "source": [
    "# Data Preprocessing"
   ]
  },
  {
   "cell_type": "code",
   "execution_count": 3,
   "metadata": {},
   "outputs": [
    {
     "name": "stdout",
     "output_type": "stream",
     "text": [
      "          A      B    C      D\n",
      "0   maldimz    3.0  yes    2.0\n",
      "1      afe2    NaN   no    2.0\n",
      "2      wth4    3.0  yes    4.0\n",
      "3      atn2    2.0   no   24.6\n",
      "4        21   25.0  yes    6.0\n",
      "5      ple2   45.6  yes    7.0\n",
      "6      snn3   41.1   no   10.0\n",
      "7      avg2  234.0  yes   22.0\n",
      "8      ikk1    2.0  NaN    3.0\n",
      "9      pkn3    5.0  yes    NaN\n",
      "10     gry5    5.0   no    3.0\n",
      "11     1arg  145.0   no   56.0\n",
      "12     0opw  556.0   no    7.0\n",
      "13      khj   34.0  yes   12.0\n",
      "14     lasd  234.0   no    NaN\n",
      "15    ujgh3    NaN  yes   45.0\n",
      "16     asd3   12.0  yes   22.0\n",
      "17     njk4   10.0   no   45.0\n",
      "18     lkj2    2.0   no  -99.0\n",
      "19    mn02f   15.0   no  234.0\n",
      "20    ik67j    1.0  yes    5.0\n"
     ]
    }
   ],
   "source": [
    "import pandas as pd \n",
    "\n",
    "data = pd.read_csv(\"messydata.csv\")\n",
    "print(data)"
   ]
  },
  {
   "cell_type": "markdown",
   "metadata": {},
   "source": [
    "## Melakukan Konfersi Tipe Data"
   ]
  },
  {
   "cell_type": "code",
   "execution_count": 4,
   "metadata": {},
   "outputs": [
    {
     "name": "stdout",
     "output_type": "stream",
     "text": [
      "<class 'pandas.core.frame.DataFrame'>\n",
      "RangeIndex: 21 entries, 0 to 20\n",
      "Data columns (total 4 columns):\n",
      " #   Column  Non-Null Count  Dtype  \n",
      "---  ------  --------------  -----  \n",
      " 0   A       21 non-null     object \n",
      " 1   B       19 non-null     float64\n",
      " 2   C       20 non-null     object \n",
      " 3   D       19 non-null     float64\n",
      "dtypes: float64(2), object(2)\n",
      "memory usage: 804.0+ bytes\n",
      "None\n",
      "<class 'pandas.core.frame.DataFrame'>\n",
      "RangeIndex: 21 entries, 0 to 20\n",
      "Data columns (total 4 columns):\n",
      " #   Column  Non-Null Count  Dtype  \n",
      "---  ------  --------------  -----  \n",
      " 0   A       21 non-null     object \n",
      " 1   B       19 non-null     string \n",
      " 2   C       20 non-null     object \n",
      " 3   D       19 non-null     float64\n",
      "dtypes: float64(1), object(2), string(1)\n",
      "memory usage: 804.0+ bytes\n",
      "None\n"
     ]
    }
   ],
   "source": [
    "print(data.info())\n",
    "\n",
    "data['B'] = data['B'].astype('string')\n",
    "print(data.info())"
   ]
  },
  {
   "cell_type": "markdown",
   "metadata": {},
   "source": [
    "## Mendeteksi Nilai NUll pada Data\n"
   ]
  },
  {
   "cell_type": "code",
   "execution_count": 5,
   "metadata": {},
   "outputs": [
    {
     "name": "stdout",
     "output_type": "stream",
     "text": [
      "        A      B      C      D\n",
      "0   False  False  False  False\n",
      "1   False   True  False  False\n",
      "2   False  False  False  False\n",
      "3   False  False  False  False\n",
      "4   False  False  False  False\n",
      "5   False  False  False  False\n",
      "6   False  False  False  False\n",
      "7   False  False  False  False\n",
      "8   False  False   True  False\n",
      "9   False  False  False   True\n",
      "10  False  False  False  False\n",
      "11  False  False  False  False\n",
      "12  False  False  False  False\n",
      "13  False  False  False  False\n",
      "14  False  False  False   True\n",
      "15  False   True  False  False\n",
      "16  False  False  False  False\n",
      "17  False  False  False  False\n",
      "18  False  False  False  False\n",
      "19  False  False  False  False\n",
      "20  False  False  False  False\n"
     ]
    }
   ],
   "source": [
    "data_null = data.isnull()\n",
    "print(data_null)"
   ]
  },
  {
   "cell_type": "code",
   "execution_count": 7,
   "metadata": {},
   "outputs": [
    {
     "name": "stdout",
     "output_type": "stream",
     "text": [
      "        A      B    C     D\n",
      "1    afe2   <NA>   no   2.0\n",
      "8    ikk1    2.0  NaN   3.0\n",
      "9    pkn3    5.0  yes   NaN\n",
      "14   lasd  234.0   no   NaN\n",
      "15  ujgh3   <NA>  yes  45.0\n"
     ]
    }
   ],
   "source": [
    "row_null = data[data.isnull().any(axis=1)]\n",
    "print(row_null)"
   ]
  },
  {
   "cell_type": "markdown",
   "metadata": {},
   "source": [
    "## Cara 1 : Mengubah data NULL menjadi karakter lain"
   ]
  },
  {
   "cell_type": "code",
   "execution_count": 11,
   "metadata": {},
   "outputs": [
    {
     "name": "stdout",
     "output_type": "stream",
     "text": [
      "          A      B    C      D\n",
      "0   maldimz    3.0  yes    2.0\n",
      "1      afe2  -99.0   no    2.0\n",
      "2      wth4    3.0  yes    4.0\n",
      "3      atn2    2.0   no   24.6\n",
      "4        21   25.0  yes    6.0\n",
      "5      ple2   45.6  yes    7.0\n",
      "6      snn3   41.1   no   10.0\n",
      "7      avg2  234.0  yes   22.0\n",
      "8      ikk1    2.0  -99    3.0\n",
      "9      pkn3    5.0  yes  -99.0\n",
      "10     gry5    5.0   no    3.0\n",
      "11     1arg  145.0   no   56.0\n",
      "12     0opw  556.0   no    7.0\n",
      "13      khj   34.0  yes   12.0\n",
      "14     lasd  234.0   no  -99.0\n",
      "15    ujgh3  -99.0  yes   45.0\n",
      "16     asd3   12.0  yes   22.0\n",
      "17     njk4   10.0   no   45.0\n",
      "18     lkj2    2.0   no  -99.0\n",
      "19    mn02f   15.0   no  234.0\n",
      "20    ik67j    1.0  yes    5.0\n"
     ]
    }
   ],
   "source": [
    "import numpy as np\n",
    "data1 = data\n",
    "data1.replace(np.nan, -99, inplace=True)\n",
    "print(data1)"
   ]
  },
  {
   "cell_type": "markdown",
   "metadata": {},
   "source": [
    "## Cara 2 : Mengganti Nilai NUll demgam sebelumnya "
   ]
  },
  {
   "cell_type": "code",
   "execution_count": 5,
   "metadata": {},
   "outputs": [
    {
     "name": "stdout",
     "output_type": "stream",
     "text": [
      "          A      B    C      D\n",
      "0   maldimz    3.0  yes    2.0\n",
      "1      afe2    3.0   no    2.0\n",
      "2      wth4    3.0  yes    4.0\n",
      "3      atn2    2.0   no   24.6\n",
      "4        21   25.0  yes    6.0\n",
      "5      ple2   45.6  yes    7.0\n",
      "6      snn3   41.1   no   10.0\n",
      "7      avg2  234.0  yes   22.0\n",
      "8      ikk1    2.0  yes    3.0\n",
      "9      pkn3    5.0  yes    3.0\n",
      "10     gry5    5.0   no    3.0\n",
      "11     1arg  145.0   no   56.0\n",
      "12     0opw  556.0   no    7.0\n",
      "13      khj   34.0  yes   12.0\n",
      "14     lasd  234.0   no   12.0\n",
      "15    ujgh3  234.0  yes   45.0\n",
      "16     asd3   12.0  yes   22.0\n",
      "17     njk4   10.0   no   45.0\n",
      "18     lkj2    2.0   no  -99.0\n",
      "19    mn02f   15.0   no  234.0\n",
      "20    ik67j    1.0  yes    5.0\n"
     ]
    }
   ],
   "source": [
    "data2 = data\n",
    "data2.fillna(method='ffill', inplace=True)\n",
    "print(data2)"
   ]
  },
  {
   "cell_type": "markdown",
   "metadata": {},
   "source": [
    "## Cara 3 : Menghapus Semua Baris yang punya Data NULL"
   ]
  },
  {
   "cell_type": "code",
   "execution_count": 8,
   "metadata": {},
   "outputs": [
    {
     "name": "stdout",
     "output_type": "stream",
     "text": [
      "          A      B    C      D\n",
      "0   maldimz    3.0  yes    2.0\n",
      "1      afe2    3.0   no    2.0\n",
      "2      wth4    3.0  yes    4.0\n",
      "3      atn2    2.0   no   24.6\n",
      "4        21   25.0  yes    6.0\n",
      "5      ple2   45.6  yes    7.0\n",
      "6      snn3   41.1   no   10.0\n",
      "7      avg2  234.0  yes   22.0\n",
      "8      ikk1    2.0  yes    3.0\n",
      "9      pkn3    5.0  yes    3.0\n",
      "10     gry5    5.0   no    3.0\n",
      "11     1arg  145.0   no   56.0\n",
      "12     0opw  556.0   no    7.0\n",
      "13      khj   34.0  yes   12.0\n",
      "14     lasd  234.0   no   12.0\n",
      "15    ujgh3  234.0  yes   45.0\n",
      "16     asd3   12.0  yes   22.0\n",
      "17     njk4   10.0   no   45.0\n",
      "18     lkj2    2.0   no  -99.0\n",
      "19    mn02f   15.0   no  234.0\n",
      "20    ik67j    1.0  yes    5.0\n"
     ]
    }
   ],
   "source": [
    "data3 = data\n",
    "data3 = data3.dropna()\n",
    "print(data3)"
   ]
  },
  {
   "cell_type": "markdown",
   "metadata": {},
   "source": [
    "## Convert ke CSV"
   ]
  },
  {
   "cell_type": "code",
   "execution_count": null,
   "metadata": {},
   "outputs": [],
   "source": [
    "data3.to_csv('data_cleaned.csv', index=False)"
   ]
  }
 ],
 "metadata": {
  "kernelspec": {
   "display_name": "base",
   "language": "python",
   "name": "python3"
  },
  "language_info": {
   "codemirror_mode": {
    "name": "ipython",
    "version": 3
   },
   "file_extension": ".py",
   "mimetype": "text/x-python",
   "name": "python",
   "nbconvert_exporter": "python",
   "pygments_lexer": "ipython3",
   "version": "3.11.5"
  }
 },
 "nbformat": 4,
 "nbformat_minor": 2
}
