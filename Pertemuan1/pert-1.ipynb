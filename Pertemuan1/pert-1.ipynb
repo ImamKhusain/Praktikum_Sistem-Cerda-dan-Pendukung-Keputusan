{
 "cells": [
  {
   "cell_type": "markdown",
   "metadata": {},
   "source": [
    "# halo semua, ini pertemuan 1"
   ]
  },
  {
   "cell_type": "markdown",
   "metadata": {},
   "source": [
    "## hello world"
   ]
  },
  {
   "cell_type": "code",
   "execution_count": 3,
   "metadata": {},
   "outputs": [
    {
     "name": "stdout",
     "output_type": "stream",
     "text": [
      "Hello world\n"
     ]
    }
   ],
   "source": [
    "print(\"Hello world\")"
   ]
  },
  {
   "cell_type": "markdown",
   "metadata": {},
   "source": [
    "## Variabel"
   ]
  },
  {
   "cell_type": "code",
   "execution_count": null,
   "metadata": {},
   "outputs": [],
   "source": [
    "nama_depan = \"Imam\"\n",
    "nama_belakang = \"Khusain\"\n",
    "umur = 20\n",
    "#jarijari = 3.14\n",
    "#ini_boolean = True\n",
    "#perkenalan = \"Perkenalkan nama saya \" + nama_depan + nama_belakang + \" saya berumur \" + umur\n",
    "perkenalan = f\"Perkenalkan nama saya {nama_depan} {nama_belakang} saya berumur {umur}\"\n",
    "\n",
    "print(nama_depan, nama_belakang)\n",
    "print(umur)\n",
    "print(ini_boolean)\n",
    "print(perkenalan)\n",
    "\n",
    "## Tipe Data Kelompok ##\n",
    "ini_list = [1,2,3,4,\"salma\"]\n",
    "ini_list.append(3.14)\n",
    "ini_list.pop(1) ##berdasarkan Index\n",
    "ini_list.remove(True) ##berdasarkan nilai\n",
    "print(ini_list)\n",
    "\n",
    "## Dict\n",
    "ini_dict = {\"nama\" : \"Imam\",\n",
    "            \"umur\" : 20}\n",
    "#print(\"ini adalah dict :\\n\", ini_dict)\n",
    "print(ini_dict[\"nama\"])\n",
    "ini_dict[\"nama\"] = \"Salma\"\n",
    "print(ini_dict[\"nama\"])"
   ]
  },
  {
   "cell_type": "markdown",
   "metadata": {},
   "source": [
    "# Operator"
   ]
  },
  {
   "cell_type": "code",
   "execution_count": null,
   "metadata": {},
   "outputs": [],
   "source": [
    "a = 10\n",
    "b = 3\n",
    "\n",
    "print(a+b)\n",
    "print(a-b)\n",
    "print(a / b)\n",
    "print(a // b)\n",
    "print(5 ** 3)\n"
   ]
  },
  {
   "cell_type": "markdown",
   "metadata": {},
   "source": [
    "# Percabangan"
   ]
  },
  {
   "cell_type": "code",
   "execution_count": 20,
   "metadata": {},
   "outputs": [
    {
     "name": "stdout",
     "output_type": "stream",
     "text": [
      "Nilai Anda A\n"
     ]
    }
   ],
   "source": [
    "nilai_uts = 90\n",
    "\n",
    "if nilai_uts >= 90 :\n",
    "    print(\"Nilai Anda A\")\n",
    "elif nilai_uts >= 80 :\n",
    "    print(\"Nilai Anda B\")\n",
    "else :\n",
    "    print(\"nilai anda C\")\n",
    "    print(\"Program Selesai\")"
   ]
  },
  {
   "cell_type": "markdown",
   "metadata": {},
   "source": [
    "## Looping"
   ]
  },
  {
   "cell_type": "markdown",
   "metadata": {},
   "source": [
    "### while"
   ]
  },
  {
   "cell_type": "code",
   "execution_count": 23,
   "metadata": {},
   "outputs": [
    {
     "name": "stdout",
     "output_type": "stream",
     "text": [
      "1\n",
      "2\n",
      "3\n",
      "4\n",
      "5\n",
      "6\n",
      "7\n",
      "8\n",
      "9\n",
      "10\n"
     ]
    }
   ],
   "source": [
    "count = 1\n",
    "while count <= 10 :\n",
    "    print(count)\n",
    "    count += 1\n"
   ]
  },
  {
   "cell_type": "markdown",
   "metadata": {},
   "source": [
    "### For"
   ]
  },
  {
   "cell_type": "code",
   "execution_count": 24,
   "metadata": {},
   "outputs": [
    {
     "name": "stdout",
     "output_type": "stream",
     "text": [
      "1\n",
      "2\n",
      "3\n",
      "4\n",
      "5\n",
      "6\n",
      "Anggur Merah\n",
      "Anggur Putih\n",
      "Apel\n"
     ]
    }
   ],
   "source": [
    "for i in range (1,7) :\n",
    "    print(i)\n",
    "\n",
    "buah = ['Anggur Merah', 'Anggur Putih', 'Apel']\n",
    "for a in buah :\n",
    "    print(a)"
   ]
  },
  {
   "cell_type": "markdown",
   "metadata": {},
   "source": [
    "## Fungsi"
   ]
  },
  {
   "cell_type": "code",
   "execution_count": 27,
   "metadata": {},
   "outputs": [
    {
     "name": "stdout",
     "output_type": "stream",
     "text": [
      "Perkenalkan nama saya salma\n",
      "Nama Saya Adi\n",
      "25\n",
      "100\n"
     ]
    }
   ],
   "source": [
    "def sapa(nama) :\n",
    "    print(f\"Perkenalkan nama saya {nama}\")\n",
    "    print(\"Nama Saya Adi\")\n",
    "\n",
    "def luasPersegi(sisi = 10) :\n",
    "    return sisi*sisi\n",
    "\n",
    "sapa(\"salma\")\n",
    "print(luasPersegi(5))\n",
    "print(luasPersegi())"
   ]
  }
 ],
 "metadata": {
  "kernelspec": {
   "display_name": "base",
   "language": "python",
   "name": "python3"
  },
  "language_info": {
   "codemirror_mode": {
    "name": "ipython",
    "version": 3
   },
   "file_extension": ".py",
   "mimetype": "text/x-python",
   "name": "python",
   "nbconvert_exporter": "python",
   "pygments_lexer": "ipython3",
   "version": "3.11.5"
  }
 },
 "nbformat": 4,
 "nbformat_minor": 2
}
